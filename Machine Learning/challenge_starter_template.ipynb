{
 "cells": [
  {
   "cell_type": "markdown",
   "id": "fa85d2cd-ef11-4448-b15e-81af90118ccc",
   "metadata": {},
   "source": [
    "# Sentiment Analysis Challenge\n"
   ]
  },
  {
   "cell_type": "markdown",
   "id": "8585d597",
   "metadata": {},
   "source": [
    "## Introduction"
   ]
  },
  {
   "cell_type": "markdown",
   "id": "7975edc8",
   "metadata": {},
   "source": [
    "Ever wondered how social media platforms figure out if a post is positive or negative? Or how companies analyze customer reviews to improve their products? That’s where Sentiment Analysis comes in!\n",
    "\n",
    "In this challenge, you'll step into the world of Natural Language Processing (NLP)—the tech behind chatbots, search engines, and AI assistants. Your task? Build a sentiment classification model that can determine whether a given piece of text is positive or negative.\n",
    "\n",
    "<img src=\"sentiment_analysis.png\" alt=\"Sentiment Analysis Example\" width=\"600\"/>"
   ]
  },
  {
   "cell_type": "markdown",
   "id": "6bc6d376",
   "metadata": {},
   "source": [
    "### Challenge Structure:\n",
    "**Note: This notebook is a suggested starter template for the challenge. You are free to modify the code as you see fit.**\n",
    "\n",
    "The challenge is divided into 4 sections:\n",
    "- Task 1: Exploratory Data Analysis (EDA)\n",
    "- Task 2: Data Preprocessing\n",
    "- Task 3: Model Selection and Training\n",
    "- Task 4: Evaluation\n",
    "- Task 5: Inference (Optional)\n",
    "\n",
    "The **dataset provided** (amazon.csv) contains **19,396 reviews** and two columns: text and label. The label is 0 for negative and 1 for positive.\n",
    "\n",
    "<img src=\"dataset_str.png\" alt=\"Dataset Example\" width=\"400\"/>"
   ]
  },
  {
   "cell_type": "markdown",
   "id": "9cfcf4d5-3c7c-4d9c-a442-c7778c1bb839",
   "metadata": {},
   "source": [
    "Note: The classification model you choose can range from traditional machine learning algorithms (e.g. Logistic Regression, Random Forest) to deep learning models like RNN, LSTM, and Transformers."
   ]
  },
  {
   "cell_type": "markdown",
   "id": "3f5f6875-136e-4a2f-bda0-a6c1348af43f",
   "metadata": {},
   "source": [
    "## Environment Setup"
   ]
  },
  {
   "cell_type": "code",
   "execution_count": null,
   "id": "769723db",
   "metadata": {},
   "outputs": [],
   "source": [
    "## Create virtual environment\n",
    "\n",
    "# For Python (Windows/Linux/Mac):\n",
    "# python -m venv myenv\n",
    "# source myenv/bin/activate  # Linux/Mac\n",
    "# myenv\\Scripts\\activate     # Windows\n",
    "\n",
    "# If you're using Conda (Windows/Linux):\n",
    "# conda create -n myenv \n",
    "# conda activate myenv"
   ]
  },
  {
   "cell_type": "code",
   "execution_count": 1,
   "id": "a99cecfb-946d-4b95-b50b-5450247777f8",
   "metadata": {},
   "outputs": [],
   "source": [
    "##Place all imports here \n",
    "import pandas as pd"
   ]
  },
  {
   "cell_type": "markdown",
   "id": "61ca269c-5f4f-411e-81c3-144a2c0aa556",
   "metadata": {},
   "source": [
    "## Load and display the dataset\n",
    "Use the cell below to load and display the dataset."
   ]
  },
  {
   "cell_type": "code",
   "execution_count": 7,
   "id": "dff84c40-ac92-49c1-84b4-32cb3005eebb",
   "metadata": {},
   "outputs": [],
   "source": [
    "df = pd.read_csv(\"amazon.csv\") # reads the file amazon.csv into a pandas dataframe"
   ]
  },
  {
   "cell_type": "markdown",
   "id": "65f42a56-efb5-4235-8739-7a59de46af5b",
   "metadata": {},
   "source": [
    "## Task 1: Exploratory data analysis (EDA)\n",
    " EDA helps uncover patterns, detect anomalies, and validate assumptions through data visualization and summary statistics. What insights can you extract from the dataset to better understand its structure and sentiment distribution?"
   ]
  },
  {
   "cell_type": "code",
   "execution_count": 8,
   "id": "91c6cf91-2f8a-46e1-a216-ef6933d9d64e",
   "metadata": {},
   "outputs": [
    {
     "data": {
      "text/html": [
       "<div>\n",
       "<style scoped>\n",
       "    .dataframe tbody tr th:only-of-type {\n",
       "        vertical-align: middle;\n",
       "    }\n",
       "\n",
       "    .dataframe tbody tr th {\n",
       "        vertical-align: top;\n",
       "    }\n",
       "\n",
       "    .dataframe thead th {\n",
       "        text-align: right;\n",
       "    }\n",
       "</style>\n",
       "<table border=\"1\" class=\"dataframe\">\n",
       "  <thead>\n",
       "    <tr style=\"text-align: right;\">\n",
       "      <th></th>\n",
       "      <th>Text</th>\n",
       "      <th>label</th>\n",
       "    </tr>\n",
       "  </thead>\n",
       "  <tbody>\n",
       "    <tr>\n",
       "      <th>0</th>\n",
       "      <td>Not only do we enjoy this individually, it ent...</td>\n",
       "      <td>1</td>\n",
       "    </tr>\n",
       "    <tr>\n",
       "      <th>1</th>\n",
       "      <td>Over the years I have purchased these radio ap...</td>\n",
       "      <td>1</td>\n",
       "    </tr>\n",
       "    <tr>\n",
       "      <th>2</th>\n",
       "      <td>I love this game! There are very few ads. The ...</td>\n",
       "      <td>1</td>\n",
       "    </tr>\n",
       "    <tr>\n",
       "      <th>3</th>\n",
       "      <td>It won't let me move anyone and when I try to ...</td>\n",
       "      <td>0</td>\n",
       "    </tr>\n",
       "    <tr>\n",
       "      <th>4</th>\n",
       "      <td>Two things in order for me to want this.  Get ...</td>\n",
       "      <td>0</td>\n",
       "    </tr>\n",
       "  </tbody>\n",
       "</table>\n",
       "</div>"
      ],
      "text/plain": [
       "                                                Text  label\n",
       "0  Not only do we enjoy this individually, it ent...      1\n",
       "1  Over the years I have purchased these radio ap...      1\n",
       "2  I love this game! There are very few ads. The ...      1\n",
       "3  It won't let me move anyone and when I try to ...      0\n",
       "4  Two things in order for me to want this.  Get ...      0"
      ]
     },
     "execution_count": 8,
     "metadata": {},
     "output_type": "execute_result"
    }
   ],
   "source": [
    "# to display the first 5 rows\n",
    "df.head()"
   ]
  },
  {
   "cell_type": "code",
   "execution_count": 9,
   "id": "4e932e6a",
   "metadata": {},
   "outputs": [
    {
     "data": {
      "text/html": [
       "<div>\n",
       "<style scoped>\n",
       "    .dataframe tbody tr th:only-of-type {\n",
       "        vertical-align: middle;\n",
       "    }\n",
       "\n",
       "    .dataframe tbody tr th {\n",
       "        vertical-align: top;\n",
       "    }\n",
       "\n",
       "    .dataframe thead th {\n",
       "        text-align: right;\n",
       "    }\n",
       "</style>\n",
       "<table border=\"1\" class=\"dataframe\">\n",
       "  <thead>\n",
       "    <tr style=\"text-align: right;\">\n",
       "      <th></th>\n",
       "      <th>label</th>\n",
       "    </tr>\n",
       "  </thead>\n",
       "  <tbody>\n",
       "    <tr>\n",
       "      <th>count</th>\n",
       "      <td>19396.000000</td>\n",
       "    </tr>\n",
       "    <tr>\n",
       "      <th>mean</th>\n",
       "      <td>0.769746</td>\n",
       "    </tr>\n",
       "    <tr>\n",
       "      <th>std</th>\n",
       "      <td>0.421006</td>\n",
       "    </tr>\n",
       "    <tr>\n",
       "      <th>min</th>\n",
       "      <td>0.000000</td>\n",
       "    </tr>\n",
       "    <tr>\n",
       "      <th>25%</th>\n",
       "      <td>1.000000</td>\n",
       "    </tr>\n",
       "    <tr>\n",
       "      <th>50%</th>\n",
       "      <td>1.000000</td>\n",
       "    </tr>\n",
       "    <tr>\n",
       "      <th>75%</th>\n",
       "      <td>1.000000</td>\n",
       "    </tr>\n",
       "    <tr>\n",
       "      <th>max</th>\n",
       "      <td>1.000000</td>\n",
       "    </tr>\n",
       "  </tbody>\n",
       "</table>\n",
       "</div>"
      ],
      "text/plain": [
       "              label\n",
       "count  19396.000000\n",
       "mean       0.769746\n",
       "std        0.421006\n",
       "min        0.000000\n",
       "25%        1.000000\n",
       "50%        1.000000\n",
       "75%        1.000000\n",
       "max        1.000000"
      ]
     },
     "execution_count": 9,
     "metadata": {},
     "output_type": "execute_result"
    }
   ],
   "source": [
    "# to view the statistics of the dataframe\n",
    "df.describe()"
   ]
  },
  {
   "cell_type": "markdown",
   "id": "4119f8c6",
   "metadata": {},
   "source": [
    "<span style=\"color:red\">##### TODO: perform more EDA and some visualizations</span>"
   ]
  },
  {
   "cell_type": "code",
   "execution_count": null,
   "id": "1f602dfb",
   "metadata": {},
   "outputs": [],
   "source": [
    "# Here are a few options to explore for EDA and visualizations (you can choose some of them or add more):\n",
    "# 1. Check for missing values in the dataset\n",
    "# 2. Analyze the distribution of sentiment labels (check dataset balance)\n",
    "# 3. Visualize the length of reviews (character/word count) by sentiment\n",
    "# 4. Create word clouds for positive and negative reviews\n",
    "# 5. Examine the most frequent words in each sentiment class\n",
    "# 6. Analyze the relationship between review length and sentiment\n",
    "# 7. Check for duplicate reviews\n",
    "# 8. Visualize the distribution of review lengths\n"
   ]
  },
  {
   "cell_type": "markdown",
   "id": "cd9ccf76-5155-483f-8ec7-ec373696e6f8",
   "metadata": {},
   "source": [
    "# Task 2: Preprocessing\n",
    "Raw text data is often noisy and unstructured, containing inconsistencies like typos, slang, abbreviations, and irrelevant information. How can you preprocess the dataset to clean and standardize the text for better sentiment classification?\n",
    "\n",
    "Suggested pre-processing would be:\n",
    "- Removing punctuation\n",
    "- Removing stopwords\n",
    "- Tokenizing text\n",
    "- Text Lemmatization\n",
    "- Text representation (hint:TF-IDF, bag of words, word2vec, BERT, etc)\n",
    "- Converting sentiments to numerical labels(encoding)\n",
    "- Splitting the dataset\n",
    "\n",
    "\n"
   ]
  },
  {
   "cell_type": "markdown",
   "id": "4db02dd9",
   "metadata": {},
   "source": [
    "#### **Note: The preprocessing steps are related to the model you choose to use.**"
   ]
  },
  {
   "cell_type": "markdown",
   "id": "02daf8d0",
   "metadata": {},
   "source": [
    "### Preprocess the dataset\n",
    "Perform some preprocessings on the dataset as suggested above."
   ]
  },
  {
   "cell_type": "code",
   "execution_count": null,
   "id": "6be5930a",
   "metadata": {},
   "outputs": [],
   "source": [
    "### TODO: perform preprocessings on the dataset\n",
    "\n",
    "\n"
   ]
  },
  {
   "cell_type": "markdown",
   "id": "ce5cd627-e551-4bc9-b036-ad22f44bbfb0",
   "metadata": {},
   "source": [
    "### Splitting the dataset\n",
    "Choose an appropriate approach to splitting the dataset to train/test/validate sets. (Hint: Use random state to select the same test sample e.g random_state:42)"
   ]
  },
  {
   "cell_type": "code",
   "execution_count": null,
   "id": "10e860b2-d5aa-4ee8-8113-540057cb997c",
   "metadata": {},
   "outputs": [],
   "source": [
    "### TODO: choose an appropriate approach to split the dataset to train/test/validate sets.\n",
    "\n",
    "\n"
   ]
  },
  {
   "cell_type": "markdown",
   "id": "cfd0bec9",
   "metadata": {},
   "source": [
    "# Task 3: Model building:"
   ]
  },
  {
   "cell_type": "markdown",
   "id": "6fba3988",
   "metadata": {},
   "source": [
    "In this task, you are free to choose any appropriate approach for sentiment classification.\n",
    "You can experiment with, for example:\n",
    "- Using pretrained transformer-based models (e.g., BERT, RoBERTa, DistilBERT) via Hugging Face. (https://huggingface.co/models?pipeline_tag=text-classification&sort=trending)\n",
    "- Applying traditional machine learning techniques (e.g., Logistic Regression, Random Forest, SVM)\n",
    "- using vectorized features such as TF-IDF or word embeddings.\n",
    "- Building your own custom deep learning model (e.g., CNN, RNN, LSTM) for the classification task."
   ]
  },
  {
   "cell_type": "code",
   "execution_count": null,
   "id": "babd36e2-e415-41b8-871b-fc918932ec61",
   "metadata": {},
   "outputs": [],
   "source": [
    "### TODO: Define an appropriate model and classify the sentiment of the dataset.\n",
    "\n"
   ]
  },
  {
   "cell_type": "markdown",
   "id": "03265f2c-acb0-4873-8315-b733fa330187",
   "metadata": {},
   "source": [
    "# Task 4: Performance evaluation\n",
    "\n",
    "Model evaluation helps assess performance by using various metrics to understand a model’s strengths and weaknesses. How well do your trained and pretrained models classify sentiments, and which evaluation metrics best capture their effectiveness?\n",
    "\n",
    "- Remember you must use **at least f1 score** as a metric to evaluate the performance of your model.\n",
    "\n",
    "Evaluate the performance of the model(s) on test data . Include a visual comparison between each models' training loss and validation loss."
   ]
  },
  {
   "cell_type": "code",
   "execution_count": null,
   "id": "4e261b85-5437-4fa4-acb7-c4398206ba7f",
   "metadata": {},
   "outputs": [],
   "source": [
    "### TODO: Evaluate the performance of the model(s) on test data.\n",
    "\n",
    "\n"
   ]
  },
  {
   "cell_type": "markdown",
   "id": "6ef71780-5d04-4e96-b06f-177823c75549",
   "metadata": {},
   "source": [
    "# Task 5: Inferencing (Optional)\n",
    "AI inference applies a trained model to predict outcomes on new, unseen data. How can you use your pre-trained model to classify sentiment on new and unseen text from your end, and evaluate its performance?\n",
    "\n",
    "Note that:\n",
    "- this task is more about the application of the model rather than the training process itself, where the model(s) created in the previous task should be utlised here on unseen data.\n",
    "- unseen data: data that the model has not seen during training. This can include any new content you create independently."
   ]
  },
  {
   "cell_type": "code",
   "execution_count": null,
   "id": "cf2f1568-b22d-4a98-9c01-94cb269ac70a",
   "metadata": {},
   "outputs": [],
   "source": []
  }
 ],
 "metadata": {
  "kernelspec": {
   "display_name": "venv",
   "language": "python",
   "name": "python3"
  },
  "language_info": {
   "codemirror_mode": {
    "name": "ipython",
    "version": 3
   },
   "file_extension": ".py",
   "mimetype": "text/x-python",
   "name": "python",
   "nbconvert_exporter": "python",
   "pygments_lexer": "ipython3",
   "version": "3.12.4"
  }
 },
 "nbformat": 4,
 "nbformat_minor": 5
}
